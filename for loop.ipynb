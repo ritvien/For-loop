{
 "cells": [
  {
   "cell_type": "code",
   "execution_count": 4,
   "id": "3a525690",
   "metadata": {},
   "outputs": [
    {
     "name": "stdout",
     "output_type": "stream",
     "text": [
      "11\n",
      "16\n",
      "11\n",
      "Fizz\n",
      "13\n",
      "14\n",
      "FizzBuzz\n"
     ]
    }
   ],
   "source": [
    "#Fizzbuzz\n",
    "a = int(input())\n",
    "b = int(input())\n",
    "for i in range(min(a,b), max(a,b)):\n",
    "    if((i%3==0)and(i%5==0)):\n",
    "        print(\"FizzBuzz\")\n",
    "    elif((i%3==0)):\n",
    "        print(\"Fizz\")\n",
    "    elif((i%5==0)):\n",
    "        print(\"Buzz\")\n",
    "    else:\n",
    "        print(i)"
   ]
  },
  {
   "cell_type": "code",
   "execution_count": 11,
   "id": "2f7af1cd",
   "metadata": {},
   "outputs": [
    {
     "name": "stdout",
     "output_type": "stream",
     "text": [
      "My turn. I choose:  1\n",
      "CURRENT NUMBER IS:  1\n",
      "Your turn.Enter a number from 1 to 3: 2\n",
      "CURRENT NUMBER IS:  3\n",
      "My turn. I choose:  1\n",
      "CURRENT NUMBER IS:  4\n",
      "Your turn.Enter a number from 1 to 3: 5\n",
      "Your number is out of range.Try again!\n",
      "CURRENT NUMBER IS:  4\n",
      "Your turn.Enter a number from 1 to 3: 5\n",
      "Your number is out of range.Try again!\n",
      "CURRENT NUMBER IS:  4\n",
      "Your turn.Enter a number from 1 to 3: 5\n",
      "Your number is out of range.Try again!\n",
      "CURRENT NUMBER IS:  4\n",
      "Your turn.Enter a number from 1 to 3: 5\n",
      "Your number is out of range.Try again!\n",
      "CURRENT NUMBER IS:  4\n",
      "Your turn.Enter a number from 1 to 3: 5\n",
      "Your number is out of range.Try again!\n",
      "CURRENT NUMBER IS:  4\n",
      "Your turn.Enter a number from 1 to 3: 5\n",
      "Your number is out of range.Try again!\n",
      "CURRENT NUMBER IS:  4\n",
      "Your turn.Enter a number from 1 to 3: 5\n",
      "Your number is out of range.Try again!\n",
      "CURRENT NUMBER IS:  4\n",
      "Your turn.Enter a number from 1 to 3: 5\n",
      "Your number is out of range.Try again!\n",
      "CURRENT NUMBER IS:  4\n",
      "Your turn.Enter a number from 1 to 3: 5\n",
      "Your number is out of range.Try again!\n",
      "CURRENT NUMBER IS:  4\n",
      "Your turn.Enter a number from 1 to 3: 5\n",
      "Your number is out of range.Try again!\n",
      "CURRENT NUMBER IS:  4\n",
      "Your turn.Enter a number from 1 to 3: 2\n",
      "CURRENT NUMBER IS:  6\n",
      "My turn. I choose:  2\n",
      "CURRENT NUMBER IS:  8\n",
      "Your turn.Enter a number from 1 to 3: 2\n",
      "CURRENT NUMBER IS:  10\n",
      "My turn. I choose:  3\n",
      "CURRENT NUMBER IS:  13\n",
      "Your turn.Enter a number from 1 to 3: 2\n",
      "CURRENT NUMBER IS:  15\n",
      "My turn. I choose:  3\n",
      "CURRENT NUMBER IS:  18\n",
      "Your turn.Enter a number from 1 to 3: 2\n",
      "CURRENT NUMBER IS:  20\n",
      "My turn. I choose:  2\n",
      "You lose!\n",
      "Do you want to try again?(if yes enter y, else enter anything!)2\n",
      "Thank you!!!\n"
     ]
    }
   ],
   "source": [
    "#The 21 Game\n",
    "import random as r\n",
    "a = r.randint(0,1)\n",
    "current_number = 0\n",
    "while(a<22):\n",
    "    if(a%2==1):\n",
    "        h = (input(\"Your turn.Enter a number from 1 to 3: \"))\n",
    "        if(h in '123'):\n",
    "            current_number += int(h)\n",
    "            a+=1\n",
    "        else:\n",
    "            print(\"Your number is out of range.Try again!\")\n",
    "    else:\n",
    "        c = r.randint(1,3)\n",
    "        print(\"My turn. I choose: \",c)\n",
    "        current_number += c\n",
    "        a+=1\n",
    "    if(current_number >=21):\n",
    "        if(a%2==1):\n",
    "            print(\"You lose!\")\n",
    "        else:\n",
    "            print(\"You win!!!!\")\n",
    "        b = input(\"Do you want to try again?(if yes enter y, else enter anything!)\")\n",
    "        if(b in 'Yy'):\n",
    "            a = r.randint(0,1)\n",
    "        else:\n",
    "            print('Thank you!!!')\n",
    "            break\n",
    "    print(\"CURRENT NUMBER IS: \",current_number)"
   ]
  },
  {
   "cell_type": "code",
   "execution_count": 23,
   "id": "43ccda5c",
   "metadata": {},
   "outputs": [
    {
     "name": "stdout",
     "output_type": "stream",
     "text": [
      "1x1=1\t2x1=2\t3x1=3\t4x1=4\t5x1=5\t6x1=6\t7x1=7\t8x1=8\t9x1=9\t\n",
      "\n",
      "1x2=2\t2x2=4\t3x2=6\t4x2=8\t5x2=10\t6x2=12\t7x2=14\t8x2=16\t9x2=18\t\n",
      "\n",
      "1x3=3\t2x3=6\t3x3=9\t4x3=12\t5x3=15\t6x3=18\t7x3=21\t8x3=24\t9x3=27\t\n",
      "\n",
      "1x4=4\t2x4=8\t3x4=12\t4x4=16\t5x4=20\t6x4=24\t7x4=28\t8x4=32\t9x4=36\t\n",
      "\n",
      "1x5=5\t2x5=10\t3x5=15\t4x5=20\t5x5=25\t6x5=30\t7x5=35\t8x5=40\t9x5=45\t\n",
      "\n",
      "1x6=6\t2x6=12\t3x6=18\t4x6=24\t5x6=30\t6x6=36\t7x6=42\t8x6=48\t9x6=54\t\n",
      "\n",
      "1x7=7\t2x7=14\t3x7=21\t4x7=28\t5x7=35\t6x7=42\t7x7=49\t8x7=56\t9x7=63\t\n",
      "\n",
      "1x8=8\t2x8=16\t3x8=24\t4x8=32\t5x8=40\t6x8=48\t7x8=56\t8x8=64\t9x8=72\t\n",
      "\n",
      "1x9=9\t2x9=18\t3x9=27\t4x9=36\t5x9=45\t6x9=54\t7x9=63\t8x9=72\t9x9=81\t\n",
      "\n",
      "1x10=10\t2x10=20\t3x10=30\t4x10=40\t5x10=50\t6x10=60\t7x10=70\t8x10=80\t9x10=90\t\n",
      "\n"
     ]
    }
   ],
   "source": [
    "#Bảng cửu chương\n",
    "for i in range (1,11):\n",
    "    for j in range(1,10):\n",
    "        print(f'{j}x{i}={i*j}\\t',end = '')\n",
    "    print('\\n')"
   ]
  },
  {
   "cell_type": "code",
   "execution_count": null,
   "id": "effbb5d2",
   "metadata": {},
   "outputs": [],
   "source": []
  }
 ],
 "metadata": {
  "kernelspec": {
   "display_name": "Python 3 (ipykernel)",
   "language": "python",
   "name": "python3"
  },
  "language_info": {
   "codemirror_mode": {
    "name": "ipython",
    "version": 3
   },
   "file_extension": ".py",
   "mimetype": "text/x-python",
   "name": "python",
   "nbconvert_exporter": "python",
   "pygments_lexer": "ipython3",
   "version": "3.9.13"
  }
 },
 "nbformat": 4,
 "nbformat_minor": 5
}
